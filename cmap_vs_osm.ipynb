{
 "cells": [
  {
   "cell_type": "code",
   "execution_count": 1,
   "id": "f1903358",
   "metadata": {},
   "outputs": [],
   "source": [
    "import pandas as pd\n",
    "import geopandas as gpd\n",
    "import osmnx as ox\n",
    "import matplotlib.pyplot as plt\n",
    "import numpy as np\n",
    "import shapely"
   ]
  },
  {
   "cell_type": "code",
   "execution_count": 2,
   "id": "6fb11d7b",
   "metadata": {},
   "outputs": [
    {
     "data": {
      "text/html": [
       "<div>\n",
       "<style scoped>\n",
       "    .dataframe tbody tr th:only-of-type {\n",
       "        vertical-align: middle;\n",
       "    }\n",
       "\n",
       "    .dataframe tbody tr th {\n",
       "        vertical-align: top;\n",
       "    }\n",
       "\n",
       "    .dataframe thead th {\n",
       "        text-align: right;\n",
       "    }\n",
       "</style>\n",
       "<table border=\"1\" class=\"dataframe\">\n",
       "  <thead>\n",
       "    <tr style=\"text-align: right;\">\n",
       "      <th></th>\n",
       "      <th>FIRST_COUN</th>\n",
       "      <th>LANDUSE</th>\n",
       "      <th>LANDUSE2</th>\n",
       "      <th>OS_MGMT</th>\n",
       "      <th>FAC_NAME</th>\n",
       "      <th>PLATTED</th>\n",
       "      <th>MODIFIER</th>\n",
       "      <th>Shape_Leng</th>\n",
       "      <th>Shape_Area</th>\n",
       "      <th>geometry</th>\n",
       "    </tr>\n",
       "  </thead>\n",
       "  <tbody>\n",
       "    <tr>\n",
       "      <th>0</th>\n",
       "      <td>031</td>\n",
       "      <td>1111</td>\n",
       "      <td>None</td>\n",
       "      <td>None</td>\n",
       "      <td>None</td>\n",
       "      <td>None</td>\n",
       "      <td>None</td>\n",
       "      <td>517.742137</td>\n",
       "      <td>16718.995065</td>\n",
       "      <td>POLYGON ((1036522.695 1995782.274, 1036461.926...</td>\n",
       "    </tr>\n",
       "    <tr>\n",
       "      <th>1</th>\n",
       "      <td>031</td>\n",
       "      <td>1111</td>\n",
       "      <td>None</td>\n",
       "      <td>None</td>\n",
       "      <td>None</td>\n",
       "      <td>None</td>\n",
       "      <td>None</td>\n",
       "      <td>477.507596</td>\n",
       "      <td>11320.358746</td>\n",
       "      <td>POLYGON ((1037360.709 1996030.646, 1037322.681...</td>\n",
       "    </tr>\n",
       "    <tr>\n",
       "      <th>2</th>\n",
       "      <td>031</td>\n",
       "      <td>1111</td>\n",
       "      <td>None</td>\n",
       "      <td>None</td>\n",
       "      <td>None</td>\n",
       "      <td>None</td>\n",
       "      <td>None</td>\n",
       "      <td>484.025949</td>\n",
       "      <td>9845.643361</td>\n",
       "      <td>POLYGON ((1039486.887 1996321.765, 1039296.636...</td>\n",
       "    </tr>\n",
       "    <tr>\n",
       "      <th>3</th>\n",
       "      <td>031</td>\n",
       "      <td>1111</td>\n",
       "      <td>None</td>\n",
       "      <td>None</td>\n",
       "      <td>None</td>\n",
       "      <td>None</td>\n",
       "      <td>None</td>\n",
       "      <td>700.439764</td>\n",
       "      <td>17077.187161</td>\n",
       "      <td>POLYGON ((1038894.877 1996455.435, 1038726.152...</td>\n",
       "    </tr>\n",
       "    <tr>\n",
       "      <th>4</th>\n",
       "      <td>031</td>\n",
       "      <td>1111</td>\n",
       "      <td>None</td>\n",
       "      <td>None</td>\n",
       "      <td>None</td>\n",
       "      <td>None</td>\n",
       "      <td>None</td>\n",
       "      <td>340.958375</td>\n",
       "      <td>4876.261817</td>\n",
       "      <td>POLYGON ((1038232.967 1996733.236, 1038099.139...</td>\n",
       "    </tr>\n",
       "  </tbody>\n",
       "</table>\n",
       "</div>"
      ],
      "text/plain": [
       "  FIRST_COUN LANDUSE LANDUSE2 OS_MGMT FAC_NAME PLATTED MODIFIER  Shape_Leng  \\\n",
       "0        031    1111     None    None     None    None     None  517.742137   \n",
       "1        031    1111     None    None     None    None     None  477.507596   \n",
       "2        031    1111     None    None     None    None     None  484.025949   \n",
       "3        031    1111     None    None     None    None     None  700.439764   \n",
       "4        031    1111     None    None     None    None     None  340.958375   \n",
       "\n",
       "     Shape_Area                                           geometry  \n",
       "0  16718.995065  POLYGON ((1036522.695 1995782.274, 1036461.926...  \n",
       "1  11320.358746  POLYGON ((1037360.709 1996030.646, 1037322.681...  \n",
       "2   9845.643361  POLYGON ((1039486.887 1996321.765, 1039296.636...  \n",
       "3  17077.187161  POLYGON ((1038894.877 1996455.435, 1038726.152...  \n",
       "4   4876.261817  POLYGON ((1038232.967 1996733.236, 1038099.139...  "
      ]
     },
     "execution_count": 2,
     "metadata": {},
     "output_type": "execute_result"
    }
   ],
   "source": [
    "cmap_data = gpd.read_file(\"LUI15/Landuse2015_CMAP_v1.shp\")\n",
    "cmap_data.head()"
   ]
  },
  {
   "cell_type": "code",
   "execution_count": 3,
   "id": "6ab59ef2",
   "metadata": {},
   "outputs": [],
   "source": [
    "gdf = cmap_data[cmap_data.LANDUSE == \"1321\"]"
   ]
  },
  {
   "cell_type": "code",
   "execution_count": 4,
   "id": "335dd902",
   "metadata": {},
   "outputs": [],
   "source": [
    "gdf = gdf.to_crs(epsg=3395)"
   ]
  },
  {
   "cell_type": "code",
   "execution_count": 5,
   "id": "78fa1d52",
   "metadata": {},
   "outputs": [],
   "source": [
    "# total area for the grid\n",
    "xmin, ymin, xmax, ymax= gdf.total_bounds\n",
    "# how many cells across and down\n",
    "n_cells=30\n",
    "cell_size = (xmax-xmin)/n_cells\n",
    "# projection of the grid\n",
    "crs = 'EPSG:3395'\n",
    "# create the cells in a loop\n",
    "grid_cells = []\n",
    "for x0 in np.arange(xmin, xmax+cell_size, cell_size ):\n",
    "    for y0 in np.arange(ymin, ymax+cell_size, cell_size):\n",
    "        # bounds\n",
    "        x1 = x0-cell_size\n",
    "        y1 = y0+cell_size\n",
    "        grid_cells.append( shapely.geometry.box(x0, y0, x1, y1)  )\n",
    "cell_cmap = gpd.GeoDataFrame(grid_cells, columns=['geometry'], \n",
    "                                 crs=crs)"
   ]
  },
  {
   "cell_type": "code",
   "execution_count": 6,
   "id": "ba6b809e",
   "metadata": {},
   "outputs": [],
   "source": [
    "merge_cmap = gpd.sjoin(gdf, cell_cmap, how='left', op='within')"
   ]
  },
  {
   "cell_type": "code",
   "execution_count": 7,
   "id": "9b620fc3",
   "metadata": {},
   "outputs": [],
   "source": [
    "# make a simple count variable that we can sum\n",
    "merge_cmap['n_schools']=1\n",
    "# Compute stats per grid cell -- aggregate schools to grid cells with dissolve\n",
    "dissolve = merge_cmap.dissolve(by=\"index_right\", aggfunc=\"count\")\n",
    "# put this into cell\n",
    "cell_cmap.loc[dissolve.index, 'n_schools'] = dissolve.n_schools.values"
   ]
  },
  {
   "cell_type": "code",
   "execution_count": 8,
   "id": "62edc4a3",
   "metadata": {},
   "outputs": [
    {
     "data": {
      "text/plain": [
       "(-9872693.0660749, -9737126.572952583, 5010109.569373307, 5217978.192160857)"
      ]
     },
     "execution_count": 8,
     "metadata": {},
     "output_type": "execute_result"
    },
    {
     "data": {
      "image/png": "[encoded data removed]",
      "text/plain": [
       "<Figure size 864x576 with 1 Axes>"
      ]
     },
     "metadata": {
      "needs_background": "light"
     },
     "output_type": "display_data"
    }
   ],
   "source": [
    "ax = cell_cmap.plot(column='n_schools', figsize=(12, 8), cmap='viridis', vmax=3, edgecolor=\"grey\")\n",
    "plt.autoscale(False)\n",
    "world = gpd.read_file(gpd.datasets.get_path('naturalearth_lowres'))\n",
    "world.to_crs(cell_cmap.crs).plot(ax=ax, color='none', edgecolor='black')\n",
    "ax.axis('off')"
   ]
  },
  {
   "cell_type": "code",
   "execution_count": 9,
   "id": "bd0a9352",
   "metadata": {},
   "outputs": [],
   "source": [
    "gdf = gdf.to_crs(epsg=4326)"
   ]
  },
  {
   "cell_type": "code",
   "execution_count": 10,
   "id": "a888d5a5",
   "metadata": {},
   "outputs": [
    {
     "name": "stdout",
     "output_type": "stream",
     "text": [
      "[-88.63255556  41.23949886 -87.52545144  42.48597947]\n"
     ]
    }
   ],
   "source": [
    "print(gdf.total_bounds)"
   ]
  },
  {
   "cell_type": "code",
   "execution_count": 11,
   "id": "67892055",
   "metadata": {},
   "outputs": [],
   "source": [
    "xmin, ymin, xmax, ymax= gdf.total_bounds"
   ]
  },
  {
   "cell_type": "code",
   "execution_count": 12,
   "id": "06cf5bb1",
   "metadata": {},
   "outputs": [],
   "source": [
    "tags = {'amenity': \"school\"}\n",
    "osm_data = ox.geometries_from_bbox(ymax,ymin,xmax,xmin,tags)"
   ]
  },
  {
   "cell_type": "code",
   "execution_count": 13,
   "id": "38ff3845",
   "metadata": {},
   "outputs": [],
   "source": [
    "osm_data = osm_data.to_crs(epsg=3395)"
   ]
  },
  {
   "cell_type": "code",
   "execution_count": 14,
   "id": "0f806562",
   "metadata": {},
   "outputs": [
    {
     "name": "stderr",
     "output_type": "stream",
     "text": [
      "/opt/anaconda3/envs/gpipInternship/lib/python3.9/site-packages/pandas/core/dtypes/cast.py:1981: DeprecationWarning: An exception was ignored while fetching the attribute `__array_interface__` from an object of type 'Polygon'.  With the exception of `AttributeError` NumPy will always raise this exception in the future.  Raise this deprecation warning to see the original exception. (Warning added NumPy 1.21)\n",
      "  result[:] = values\n",
      "/opt/anaconda3/envs/gpipInternship/lib/python3.9/site-packages/geopandas/_vectorized.py:142: DeprecationWarning: An exception was ignored while fetching the attribute `__array_interface__` from an object of type 'Polygon'.  With the exception of `AttributeError` NumPy will always raise this exception in the future.  Raise this deprecation warning to see the original exception. (Warning added NumPy 1.21)\n",
      "  aout[:] = out\n"
     ]
    }
   ],
   "source": [
    "# total area for the grid\n",
    "xmin, ymin, xmax, ymax= osm_data.total_bounds\n",
    "# how many cells across and down\n",
    "n_cells=30\n",
    "cell_size = (xmax-xmin)/n_cells\n",
    "# projection of the grid\n",
    "crs = 'EPSG:3395'\n",
    "# create the cells in a loop\n",
    "grid_cells = []\n",
    "for x0 in np.arange(xmin, xmax+cell_size, cell_size ):\n",
    "    for y0 in np.arange(ymin, ymax+cell_size, cell_size):\n",
    "        # bounds\n",
    "        x1 = x0-cell_size\n",
    "        y1 = y0+cell_size\n",
    "        grid_cells.append( shapely.geometry.box(x0, y0, x1, y1)  )\n",
    "cell_osm = gpd.GeoDataFrame(grid_cells, columns=['geometry'], \n",
    "                                 crs=crs)"
   ]
  },
  {
   "cell_type": "code",
   "execution_count": 15,
   "id": "ba87316f",
   "metadata": {},
   "outputs": [],
   "source": [
    "merge_osm = gpd.sjoin(osm_data, cell_osm, how='left', op='within')"
   ]
  },
  {
   "cell_type": "code",
   "execution_count": 16,
   "id": "9e99e31c",
   "metadata": {},
   "outputs": [
    {
     "name": "stderr",
     "output_type": "stream",
     "text": [
      "/opt/anaconda3/envs/gpipInternship/lib/python3.9/site-packages/geopandas/geoseries.py:207: DeprecationWarning: The default dtype for empty Series will be 'object' instead of 'float64' in a future version. Specify a dtype explicitly to silence this warning.\n",
      "  s = pd.Series(data, index=index, name=name, **kwargs)\n",
      "/opt/anaconda3/envs/gpipInternship/lib/python3.9/site-packages/geopandas/_vectorized.py:142: DeprecationWarning: An exception was ignored while fetching the attribute `__array_interface__` from an object of type 'GeometryCollection'.  With the exception of `AttributeError` NumPy will always raise this exception in the future.  Raise this deprecation warning to see the original exception. (Warning added NumPy 1.21)\n",
      "  aout[:] = out\n",
      "/opt/anaconda3/envs/gpipInternship/lib/python3.9/site-packages/geopandas/_vectorized.py:142: DeprecationWarning: An exception was ignored while fetching the attribute `__array_interface__` from an object of type 'MultiPolygon'.  With the exception of `AttributeError` NumPy will always raise this exception in the future.  Raise this deprecation warning to see the original exception. (Warning added NumPy 1.21)\n",
      "  aout[:] = out\n",
      "/opt/anaconda3/envs/gpipInternship/lib/python3.9/site-packages/geopandas/_vectorized.py:142: DeprecationWarning: An exception was ignored while fetching the attribute `__array_interface__` from an object of type 'Polygon'.  With the exception of `AttributeError` NumPy will always raise this exception in the future.  Raise this deprecation warning to see the original exception. (Warning added NumPy 1.21)\n",
      "  aout[:] = out\n"
     ]
    }
   ],
   "source": [
    "# make a simple count variable that we can sum\n",
    "merge_osm['n_schools']=1\n",
    "# Compute stats per grid cell -- aggregate schools to grid cells with dissolve\n",
    "dissolve = merge_osm.dissolve(by=\"index_right\", aggfunc=\"count\")\n",
    "# put this into cell\n",
    "cell_osm.loc[dissolve.index, 'n_schools'] = dissolve.n_schools.values"
   ]
  },
  {
   "cell_type": "code",
   "execution_count": 17,
   "id": "bdf551eb",
   "metadata": {},
   "outputs": [
    {
     "name": "stderr",
     "output_type": "stream",
     "text": [
      "/opt/anaconda3/envs/gpipInternship/lib/python3.9/site-packages/geopandas/_vectorized.py:142: DeprecationWarning: An exception was ignored while fetching the attribute `__array_interface__` from an object of type 'MultiPolygon'.  With the exception of `AttributeError` NumPy will always raise this exception in the future.  Raise this deprecation warning to see the original exception. (Warning added NumPy 1.21)\n",
      "  aout[:] = out\n",
      "/opt/anaconda3/envs/gpipInternship/lib/python3.9/site-packages/geopandas/_vectorized.py:142: DeprecationWarning: An exception was ignored while fetching the attribute `__array_interface__` from an object of type 'Polygon'.  With the exception of `AttributeError` NumPy will always raise this exception in the future.  Raise this deprecation warning to see the original exception. (Warning added NumPy 1.21)\n",
      "  aout[:] = out\n"
     ]
    },
    {
     "data": {
      "text/plain": [
       "(-9872658.195605192, -9737268.97742083, 5010200.683212973, 5217797.484428996)"
      ]
     },
     "execution_count": 17,
     "metadata": {},
     "output_type": "execute_result"
    },
    {
     "data": {
      "image/png": "[encoded data removed]",
      "text/plain": [
       "<Figure size 864x576 with 1 Axes>"
      ]
     },
     "metadata": {
      "needs_background": "light"
     },
     "output_type": "display_data"
    }
   ],
   "source": [
    "ax = cell_osm.plot(column='n_schools', figsize=(12, 8), cmap='viridis', vmax=3, edgecolor=\"grey\")\n",
    "plt.autoscale(False)\n",
    "world = gpd.read_file(gpd.datasets.get_path('naturalearth_lowres'))\n",
    "world.to_crs(cell_osm.crs).plot(ax=ax, color='none', edgecolor='black')\n",
    "ax.axis('off')"
   ]
  },
  {
   "cell_type": "code",
   "execution_count": 18,
   "id": "bc17caa7",
   "metadata": {},
   "outputs": [],
   "source": [
    "difference = 0\n",
    "diff = []\n",
    "for i in range(len(cell_osm[\"n_schools\"])):\n",
    "    difference = abs(cell_osm[\"n_schools\"][i] - cell_cmap[\"n_schools\"][i])\n",
    "    diff.append(difference)\n"
   ]
  },
  {
   "cell_type": "code",
   "execution_count": 19,
   "id": "899d965f",
   "metadata": {},
   "outputs": [],
   "source": [
    "cell_osm[\"difference\"] = diff"
   ]
  },
  {
   "cell_type": "code",
   "execution_count": 20,
   "id": "840926b9",
   "metadata": {},
   "outputs": [
    {
     "data": {
      "text/plain": [
       "<AxesSubplot:ylabel='Frequency'>"
      ]
     },
     "execution_count": 20,
     "metadata": {},
     "output_type": "execute_result"
    },
    {
     "data": {
      "image/png": "[encoded data removed]",
      "text/plain": [
       "<Figure size 432x288 with 1 Axes>"
      ]
     },
     "metadata": {
      "needs_background": "light"
     },
     "output_type": "display_data"
    }
   ],
   "source": [
    "cell_osm[\"difference\"].plot.hist()"
   ]
  },
  {
   "cell_type": "code",
   "execution_count": 21,
   "id": "5f06bece",
   "metadata": {},
   "outputs": [],
   "source": [
    "cell_osm = cell_osm.fillna(0)"
   ]
  },
  {
   "cell_type": "code",
   "execution_count": 22,
   "id": "4b5137d9",
   "metadata": {},
   "outputs": [],
   "source": [
    "cell_cmap = cell_cmap.fillna(0)"
   ]
  },
  {
   "cell_type": "code",
   "execution_count": 23,
   "id": "a5f0e807",
   "metadata": {},
   "outputs": [],
   "source": [
    "difference = 0\n",
    "diff = []\n",
    "for i in range(len(cell_osm[\"n_schools\"])):\n",
    "    difference = abs(cell_osm[\"n_schools\"][i] - cell_cmap[\"n_schools\"][i])\n",
    "    diff.append(difference)\n"
   ]
  },
  {
   "cell_type": "code",
   "execution_count": 24,
   "id": "bd708c92",
   "metadata": {},
   "outputs": [
    {
     "data": {
      "text/plain": [
       "<AxesSubplot:ylabel='Frequency'>"
      ]
     },
     "execution_count": 24,
     "metadata": {},
     "output_type": "execute_result"
    },
    {
     "data": {
      "image/png": "[encoded data removed]",
      "text/plain": [
       "<Figure size 432x288 with 1 Axes>"
      ]
     },
     "metadata": {
      "needs_background": "light"
     },
     "output_type": "display_data"
    }
   ],
   "source": [
    "cell_cmap.plot.hist()"
   ]
  },
  {
   "cell_type": "code",
   "execution_count": 25,
   "id": "868eee3a",
   "metadata": {},
   "outputs": [],
   "source": [
    "cell_osm[\"difference\"] = diff"
   ]
  },
  {
   "cell_type": "code",
   "execution_count": 26,
   "id": "676a762a",
   "metadata": {},
   "outputs": [
    {
     "data": {
      "text/plain": [
       "<AxesSubplot:ylabel='Frequency'>"
      ]
     },
     "execution_count": 26,
     "metadata": {},
     "output_type": "execute_result"
    },
    {
     "data": {
      "image/png": "[encoded data removed]",
      "text/plain": [
       "<Figure size 432x288 with 1 Axes>"
      ]
     },
     "metadata": {
      "needs_background": "light"
     },
     "output_type": "display_data"
    }
   ],
   "source": [
    "cell_osm[\"difference\"].plot.hist()"
   ]
  },
  {
   "cell_type": "code",
   "execution_count": 27,
   "id": "44709c9b",
   "metadata": {},
   "outputs": [
    {
     "data": {
      "text/plain": [
       "<AxesSubplot:ylabel='Frequency'>"
      ]
     },
     "execution_count": 27,
     "metadata": {},
     "output_type": "execute_result"
    },
    {
     "data": {
      "image/png": "[encoded data removed]",
      "text/plain": [
       "<Figure size 432x288 with 1 Axes>"
      ]
     },
     "metadata": {
      "needs_background": "light"
     },
     "output_type": "display_data"
    }
   ],
   "source": [
    "cell_osm[\"difference\"].plot.hist(stacked=True, bins=20)"
   ]
  },
  {
   "cell_type": "code",
   "execution_count": 28,
   "id": "5803b73f",
   "metadata": {},
   "outputs": [
    {
     "data": {
      "text/plain": [
       "([<matplotlib.patches.Wedge at 0x198c38af0>,\n",
       "  <matplotlib.patches.Wedge at 0x198cd62b0>,\n",
       "  <matplotlib.patches.Wedge at 0x198cd69d0>,\n",
       "  <matplotlib.patches.Wedge at 0x178ab7130>,\n",
       "  <matplotlib.patches.Wedge at 0x178ab7850>,\n",
       "  <matplotlib.patches.Wedge at 0x178ab7f70>,\n",
       "  <matplotlib.patches.Wedge at 0x17bdd76d0>],\n",
       " [Text(-0.5446851975355651, 0.9556767422019029, '0'),\n",
       "  Text(-0.011488262370281171, -1.099940007376635, '1'),\n",
       "  Text(0.7293026719615714, -0.8234789691726879, '2'),\n",
       "  Text(0.964644958806644, -0.5286398617669009, '3'),\n",
       "  Text(1.053959180206449, -0.3149127600757869, '4'),\n",
       "  Text(1.0827072893472252, -0.19428053323579386, '5'),\n",
       "  Text(1.0972270551828984, -0.0780563218110152, 'More than 5')],\n",
       " [Text(-0.29710101683758094, 0.5212782230192198, '66.49'),\n",
       "  Text(-0.006266324929244275, -0.5999672767508917, '16.69'),\n",
       "  Text(0.39780145743358436, -0.4491703468214661, '6.72'),\n",
       "  Text(0.5261699775308967, -0.28834901550921865, '4.26'),\n",
       "  Text(0.574886825567154, -0.17177059640497463, '2.46'),\n",
       "  Text(0.5905676123712136, -0.10597119994679664, '1.13'),\n",
       "  Text(0.5984874846452173, -0.04257617553328102, '2.26')])"
      ]
     },
     "execution_count": 28,
     "metadata": {},
     "output_type": "execute_result"
    },
    {
     "data": {
      "image/png": "[encoded data removed]",
      "text/plain": [
       "<Figure size 432x288 with 1 Axes>"
      ]
     },
     "metadata": {},
     "output_type": "display_data"
    }
   ],
   "source": [
    "c1, c2, c3 , c4, c5, c6, c7= (0,0,0,0,0,0,0)\n",
    "\n",
    "for i in range(len(diff)):\n",
    "    if(diff[i] == 0):\n",
    "        c1 = c1 + 1\n",
    "    elif(diff[i] == 1):\n",
    "        c2 = c2 + 1\n",
    "    elif(diff[i] == 2):\n",
    "        c3 = c3 + 1\n",
    "    elif(diff[i] == 3):\n",
    "        c4 = c4 + 1\n",
    "    elif(diff[i] == 4):\n",
    "        c5 = c5 + 1\n",
    "    elif(diff[i] == 5):\n",
    "        c6 = c6 + 1\n",
    "    else:\n",
    "        c7 = c7 + 1\n",
    "        \n",
    "diff_pie = [c1,c2,c3,c4,c5,c6,c7]\n",
    "plt.pie(diff_pie, labels=[\"0\", \"1\", \"2\", \"3\", \"4\", \"5\", \"More than 5\"], autopct=\"%.2f\")"
   ]
  },
  {
   "cell_type": "code",
   "execution_count": null,
   "id": "3774e40a",
   "metadata": {},
   "outputs": [],
   "source": []
  }
 ],
 "metadata": {
  "kernelspec": {
   "display_name": "Python 3 (ipykernel)",
   "language": "python",
   "name": "python3"
  },
  "language_info": {
   "codemirror_mode": {
    "name": "ipython",
    "version": 3
   },
   "file_extension": ".py",
   "mimetype": "text/x-python",
   "name": "python",
   "nbconvert_exporter": "python",
   "pygments_lexer": "ipython3",
   "version": "3.9.6"
  }
 },
 "nbformat": 4,
 "nbformat_minor": 5
}
